{
 "cells": [
  {
   "cell_type": "code",
   "execution_count": null,
   "metadata": {},
   "outputs": [],
   "source": [
    "import pandas as pd\n",
    "import numpy as np\n",
    "import glob\n",
    "import datatable as dt\n",
    "from tqdm.auto import tqdm"
   ]
  },
  {
   "cell_type": "code",
   "execution_count": null,
   "metadata": {
    "scrolled": true
   },
   "outputs": [],
   "source": [
    "def gzp(file):\n",
    "    '''\n",
    "    GZP = gzip process\n",
    "    Takes a gzipped .csv and puts it into a Pandas df, make an average (gridded)\n",
    "    '''\n",
    "    df = dt.fread(file)\n",
    "    df = df.to_pandas()\n",
    "    return df\n",
    "\n",
    "def files_to_df(files):\n",
    "    '''\n",
    "    Receives: a folder\n",
    "    Returns: a dataframe of the files in that folder with separate columns for Year, Month and Day\n",
    "    '''\n",
    "    df = pd.DataFrame(data=files, columns = ['file'])\n",
    "    # Add columns that will be filled next\n",
    "    df['year'] = 0\n",
    "    for i in range(len(df)):\n",
    "        df.iloc[i, df.columns.get_loc('year')] = int(df['file'][i].rsplit('\\\\')[2].rsplit('_')[0])\n",
    "        #df['year'].iloc[i] = int(df['file'][i].rsplit('\\\\')[4].rsplit('_')[0])\n",
    "    return df\n",
    "\n",
    "def df_grid(df, lat_min, lon_min):\n",
    "    '''\n",
    "    Receives: df and the longitude bin width (lon_width)\n",
    "    Returns: single df that is the mean radiance for each grid cell\n",
    "    '''\n",
    "    dfo = pd.DataFrame()\n",
    "    lat_max = lat_min + 20\n",
    "    lon_max = lon_min + 20\n",
    "    df1 = pd.DataFrame(df.loc[(df['lat'] >= lat_min) & \n",
    "                           (df['lat'] < lat_max) & \n",
    "                           (df['lon'] >= lon_min) &\n",
    "                           (df['lon'] < lon_max)])\n",
    "\n",
    "    ct = df1['count'].sum()\n",
    "    if ct > 0:\n",
    "        dfo = dfo.append(pd.DataFrame(df1.mean(numeric_only=True)).T.round(5))\n",
    "        dfo.iloc[-1].at['count'] = ct\n",
    "        dfo = dfo.astype({'year': 'int32'})\n",
    "        dfo = dfo.astype({'count': 'int32'})\n",
    "    return dfo"
   ]
  },
  {
   "cell_type": "markdown",
   "metadata": {},
   "source": [
    "## Locate files, create single-year ~1Gb daily radiance avg gzip file"
   ]
  },
  {
   "cell_type": "code",
   "execution_count": null,
   "metadata": {
    "scrolled": true
   },
   "outputs": [],
   "source": [
    "lat_width = 20\n",
    "lon_width = 20\n",
    "\n",
    "files = glob.glob('F:\\\\L1b\\\\*.gz')\n",
    "dff = files_to_df(files)\n",
    "print('Found', len(files), 'files.')\n",
    "years = dff['year'].unique()\n",
    "print('Found these years:', years)\n",
    "dff"
   ]
  },
  {
   "cell_type": "markdown",
   "metadata": {},
   "source": [
    "## Save 1 yr of monthly averages in 20 deg lat x 20 deg lon for entire globe:"
   ]
  },
  {
   "cell_type": "code",
   "execution_count": null,
   "metadata": {},
   "outputs": [],
   "source": [
    "for year in years:\n",
    "    df2 = pd.DataFrame()\n",
    "    print('Reading in >1Gb file, please wait...')\n",
    "    file = dff.loc[dff['year'] == year]['file'].values[0]\n",
    "    df = gzp(file)\n",
    "    print('df mem size:', round(df.memory_usage().sum()/2**20, 0), 'MB')\n",
    "\n",
    "    for month in tqdm(np.arange(1, 13, 1)):\n",
    "        if len(str(month)) < 2:\n",
    "            mon_tag = '0' + str(month)\n",
    "        else:\n",
    "            mon_tag = str(month)\n",
    "\n",
    "        for i in np.arange(1, 10, 1):\n",
    "            lat = -90 + ((i + 8) % 9) * 20\n",
    "            for j in np.arange(1, 19, 1):\n",
    "                lon = -180 + ((j + 8) % 18) * 20\n",
    "                dfm = df.loc[(df['month'] == month)]\n",
    "                dfm = df_grid(dfm, lat, lon)\n",
    "                dfm['lat'] = i\n",
    "                dfm['lon'] = j\n",
    "                df2 = df2.append(dfm)\n",
    "    df2.to_csv('C:\\\\data\\\\AIRS\\\\L1B_globe_20x20\\\\'+str(year)+'_lat'+str(i)+'_lon'+str(j)+'.csv.gz', index=False, header=True, compression = 'gzip')\n",
    "            \n",
    "print('Finished.')\n",
    "# clear memory\n",
    "df = pd.DataFrame()\n",
    "df2 = pd.DataFrame()\n",
    "dfm = pd.DataFrame()"
   ]
  }
 ],
 "metadata": {
  "kernelspec": {
   "display_name": "Python 3",
   "language": "python",
   "name": "python3"
  },
  "language_info": {
   "codemirror_mode": {
    "name": "ipython",
    "version": 3
   },
   "file_extension": ".py",
   "mimetype": "text/x-python",
   "name": "python",
   "nbconvert_exporter": "python",
   "pygments_lexer": "ipython3",
   "version": "3.8.5"
  }
 },
 "nbformat": 4,
 "nbformat_minor": 4
}
