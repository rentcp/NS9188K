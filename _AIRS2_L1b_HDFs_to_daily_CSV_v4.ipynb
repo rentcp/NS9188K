{
 "cells": [
  {
   "cell_type": "code",
   "execution_count": null,
   "metadata": {},
   "outputs": [],
   "source": [
    "import pandas as pd\n",
    "import numpy as np\n",
    "import glob\n",
    "from pyhdf.SD import *\n",
    "from tqdm.auto import tqdm\n",
    "import datetime as dt\n",
    "from calendar import monthrange\n",
    "import os"
   ]
  },
  {
   "cell_type": "code",
   "execution_count": null,
   "metadata": {},
   "outputs": [],
   "source": [
    "def gp(file):\n",
    "    ''' gp = granule process\n",
    "    Receives: an .HDF file\n",
    "    Returns: a dataframe of lat, lon, sci, and radiance\n",
    "    '''\n",
    "    try:\n",
    "        f = SD(file, SDC.READ)\n",
    "    except:\n",
    "        print(file, \"is unreadable\")\n",
    "\n",
    "    sci = f.select('spectral_clear_indicator')\n",
    "    rad = f.select('radiances')\n",
    "    lat = f.select('Latitude')\n",
    "    lon = f.select('Longitude')\n",
    "    sza = f.select('solzen')\n",
    "    tim = f.select('Time')\n",
    "    ang = f.select('scanang')\n",
    "    sta = f.select('state')\n",
    "    top = f.select('topog')\n",
    "\n",
    "    y,x,r = rad[:,:,:].shape\n",
    "    geox = np.arange(0, x, 1)\n",
    "    geo = np.arange(0, y, 1)\n",
    "    geofield = np.meshgrid(geox, geo)\n",
    "\n",
    "    out_arr = np.column_stack(rad[:,:,:].reshape(y*x,-1))\n",
    "    df = pd.DataFrame(out_arr).T\n",
    "    df = pd.concat([df, \n",
    "                    pd.DataFrame(data=lat[:,:].reshape(y*x,-1).astype('float64'), columns=['lat']),\n",
    "                    pd.DataFrame(data=lon[:,:].reshape(y*x,-1).astype('float64'), columns=['lon']),\n",
    "                    pd.DataFrame(data=sza[:,:].reshape(y*x,-1).astype('float64'), columns=['sza']), \n",
    "                    pd.DataFrame(data=sci[:,:].reshape(y*x,-1).astype('int32'), columns=['sci']), \n",
    "                    pd.DataFrame(data=ang[:,:].reshape(y*x,-1).astype('float64'), columns=['scanang']), \n",
    "                    pd.DataFrame(data=sta[:,:].reshape(y*x,-1).astype('int32'), columns=['state']), \n",
    "                    pd.DataFrame(data=top[:,:].reshape(y*x,-1).astype('float64'), columns=['topog']),\n",
    "                    pd.DataFrame(data=tim[:,:].reshape(y*x,-1).astype('float64'), columns=['time']),\n",
    "                    #pd.DataFrame(data=geofield[0].reshape(y*x,-1), columns=['x']),\n",
    "                    #pd.DataFrame(data=geofield[1].reshape(y*x,-1), columns=['y']),\n",
    "                   ], axis=1)\n",
    "    df = df.loc[(df['scanang'] >= -15) & (df['scanang'] <= 15) & (df['state'] == 0)]\n",
    "    df['time'] = df['time'].apply(ti)\n",
    "    df['lat'] = df['lat'].round(4) # this is done to be comparable to L2 lat/lon's\n",
    "    df['lon'] = df['lon'].round(4) # this is done to be comparable to L2 lat/lon's\n",
    "    df['topog'] = df['topog'].round(1) # this is done to be comparable to L2 lat/lon's\n",
    "    return df\n",
    "\n",
    "def ti(x):\n",
    "    '''\n",
    "    ti = time index, Returns a datetime that is indexed to Jan 1, 1993 (NASA standard)\n",
    "    '''\n",
    "    c = dt.datetime(1993,1,1,0,0,0) + dt.timedelta(0, x)\n",
    "    c -= dt.timedelta(microseconds=c.microsecond)\n",
    "    return c\n",
    "\n",
    "def files_to_df(folder):\n",
    "    '''\n",
    "    Receives: a folder\n",
    "    Returns: a dataframe of the files in that folder with separate columns for Year, Month and Day\n",
    "    '''\n",
    "    files = glob.glob(folder+'\\\\*.hdf')\n",
    "    df = pd.DataFrame(data=files, columns = ['file'])\n",
    "    # Add columns that will be filled next\n",
    "    df['year'] = 0\n",
    "    df['month'] = 0\n",
    "    df['day'] = 0\n",
    "    for i in range(len(df)):\n",
    "        df.iloc[i, df.columns.get_loc('year')] = int(df['file'][i].rsplit('.')[1])\n",
    "        df.iloc[i, df.columns.get_loc('month')] = int(df['file'][i].rsplit('.')[2])\n",
    "        df.iloc[i, df.columns.get_loc('day')] = int(df['file'][i].rsplit('.')[3])\n",
    "    return df\n",
    "\n",
    "def days_in_month(year, month):\n",
    "    return monthrange(year, month)[1]"
   ]
  },
  {
   "cell_type": "markdown",
   "metadata": {},
   "source": [
    "### Source Data Location"
   ]
  },
  {
   "cell_type": "code",
   "execution_count": null,
   "metadata": {},
   "outputs": [],
   "source": [
    "folder_L1b = 'C:\\\\data\\\\AIRS\\\\L1b\\\\'\n",
    "\n",
    "lat_width = 20 # bin height for eventual grouping/averaging\n",
    "lon_width = 20 # bin width for eventual grouping/averaging\n",
    "#years = [2003]\n",
    "years = np.arange(2003, 2022, 1)\n",
    "months = ['01', '02', '03', '04', '05', '06', '07', '08', '09', '10', '11', '12']"
   ]
  },
  {
   "cell_type": "code",
   "execution_count": null,
   "metadata": {},
   "outputs": [],
   "source": [
    "# Optional, you can pre-read the files to ensure the code won't crash when processing the data\n",
    "\n",
    "if 1 == 2:\n",
    "    bad_files = []\n",
    "    for year in tqdm(years, \"Years\", ncols = 400, position = 0):\n",
    "        for month in tqdm(months, \"Months\", ncols = 400, position = 1, leave = False):\n",
    "            for file in glob.glob(folder_L1b + str(year) + '\\\\' + month + '\\\\*.hdf'):\n",
    "                try: \n",
    "                    gp(file)\n",
    "                except:\n",
    "                    print(file, 'is unreadable')\n",
    "                    bad_files = bad_files.append(file)\n",
    "    if len(bad_files) > 0:\n",
    "        print('list of bad files:')\n",
    "        for file in bad_files:\n",
    "            print(file)\n",
    "    else:\n",
    "        print('no bad files found.')"
   ]
  },
  {
   "cell_type": "markdown",
   "metadata": {},
   "source": [
    "### Process L1b data:"
   ]
  },
  {
   "cell_type": "code",
   "execution_count": null,
   "metadata": {
    "scrolled": false
   },
   "outputs": [],
   "source": [
    "for year in tqdm(years, \"Years\", ncols = 400, position = 0):\n",
    "    for month in tqdm(months, \"Months\", ncols = 400, position = 1, leave = False):\n",
    "        df1 = files_to_df(folder_L1b+str(year)+'\\\\'+month)\n",
    "        days = np.arange(1, days_in_month(year, int(month))+1, 1)\n",
    "        \n",
    "        for day in tqdm(days, \"Days\", ncols = 400, position = 2, leave = False):\n",
    "            dfo = pd.DataFrame()\n",
    "            files_L1b = df1.loc[(df1['year'] == year) & (df1['month'] == int(month)) & (df1['day'] == day), 'file']\n",
    "            \n",
    "            if len(files_L1b) < 1:\n",
    "                continue\n",
    "            for file in files_L1b:\n",
    "                df = gp(file)\n",
    "                dfo = pd.concat([dfo, df.loc[(df['sci'] == 2) | (df['sci'] == -2)]])\n",
    "                    \n",
    "            try:\n",
    "                # Eliminate a few unnecessary columns before saving\n",
    "                dfo = dfo.drop(['state', 'TotCld_4_CCfinal'], axis = 1) \n",
    "            except:\n",
    "                pass\n",
    "            \n",
    "            save_path = folder_L1b + '_AIRS2\\\\'\n",
    "            if not os.path.isdir(save_path):\n",
    "                os.makedirs(save_path)\n",
    "    \n",
    "            dfo.to_csv(save_path+str(year)+'_'+month+'_'+str(day)+'_L1b.csv.gz', compression = 'gzip', index=False, header=True)"
   ]
  }
 ],
 "metadata": {
  "kernelspec": {
   "display_name": "Python 3",
   "language": "python",
   "name": "python3"
  },
  "language_info": {
   "codemirror_mode": {
    "name": "ipython",
    "version": 3
   },
   "file_extension": ".py",
   "mimetype": "text/x-python",
   "name": "python",
   "nbconvert_exporter": "python",
   "pygments_lexer": "ipython3",
   "version": "3.8.5"
  }
 },
 "nbformat": 4,
 "nbformat_minor": 4
}
