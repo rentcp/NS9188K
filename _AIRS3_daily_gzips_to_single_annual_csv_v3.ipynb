{
 "cells": [
  {
   "cell_type": "code",
   "execution_count": 1,
   "metadata": {},
   "outputs": [
    {
     "data": {
      "text/html": [
       "<style type='text/css'>\n",
       ".datatable table.frame { margin-bottom: 0; }\n",
       ".datatable table.frame thead { border-bottom: none; }\n",
       ".datatable table.frame tr.coltypes td {  color: #FFFFFF;  line-height: 6px;  padding: 0 0.5em;}\n",
       ".datatable .bool    { background: #DDDD99; }\n",
       ".datatable .object  { background: #565656; }\n",
       ".datatable .int     { background: #5D9E5D; }\n",
       ".datatable .float   { background: #4040CC; }\n",
       ".datatable .str     { background: #CC4040; }\n",
       ".datatable .time    { background: #40CC40; }\n",
       ".datatable .row_index {  background: var(--jp-border-color3);  border-right: 1px solid var(--jp-border-color0);  color: var(--jp-ui-font-color3);  font-size: 9px;}\n",
       ".datatable .frame tbody td { text-align: left; }\n",
       ".datatable .frame tr.coltypes .row_index {  background: var(--jp-border-color0);}\n",
       ".datatable th:nth-child(2) { padding-left: 12px; }\n",
       ".datatable .hellipsis {  color: var(--jp-cell-editor-border-color);}\n",
       ".datatable .vellipsis {  background: var(--jp-layout-color0);  color: var(--jp-cell-editor-border-color);}\n",
       ".datatable .na {  color: var(--jp-cell-editor-border-color);  font-size: 80%;}\n",
       ".datatable .sp {  opacity: 0.25;}\n",
       ".datatable .footer { font-size: 9px; }\n",
       ".datatable .frame_dimensions {  background: var(--jp-border-color3);  border-top: 1px solid var(--jp-border-color0);  color: var(--jp-ui-font-color3);  display: inline-block;  opacity: 0.6;  padding: 1px 10px 1px 5px;}\n",
       ".datatable .frame thead tr.colnames {  background-image: url('data:image/png;base64,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');  background-repeat: repeat-x;  background-size: 14px;  height: 28px;}\n",
       "</style>\n"
      ],
      "text/plain": [
       "<IPython.core.display.HTML object>"
      ]
     },
     "metadata": {},
     "output_type": "display_data"
    }
   ],
   "source": [
    "import datatable as dt  # pip install datatable\n",
    "import pandas as pd # pip install pandas\n",
    "import numpy as np\n",
    "import glob\n",
    "from tqdm.auto import tqdm\n",
    "import os"
   ]
  },
  {
   "cell_type": "code",
   "execution_count": 2,
   "metadata": {
    "scrolled": true
   },
   "outputs": [],
   "source": [
    "def gzp(file):\n",
    "    '''\n",
    "    GZP = gzip process\n",
    "    Takes a gzipped .csv and puts it into a Pandas df, make an average (gridded)\n",
    "    '''\n",
    "    df = dt.fread(file)\n",
    "    df = df.to_pandas()\n",
    "    return df\n",
    "\n",
    "def mean_df(df, lat_width, lon_width):\n",
    "    '''\n",
    "    Receives a dataframe of clear sky radiances\n",
    "    Counts the number of radiances then stores count + avg radiances row-wise in a new df\n",
    "    '''\n",
    "    df_out = pd.DataFrame()\n",
    "    df['count'] = len(df)\n",
    "    for i in range(int(180/lat_width)):\n",
    "        lat_min = -90 + i*lat_width\n",
    "        lat_max = lat_min + lat_width\n",
    "        for j in range(int(360/lon_width)):\n",
    "            lon_min = -180 + j * lon_width\n",
    "            lon_max = lon_min + lon_width\n",
    "            ct = len(df.loc[(df['lat'] >= lat_min) & \n",
    "                           (df['lat'] < lat_max) & \n",
    "                           (df['lon'] >= lon_min) &\n",
    "                           (df['lon'] < lon_max) &\n",
    "                           (abs(df['sci']) == 2)])\n",
    "            if ct > 0:\n",
    "                df_out = df_out.append(pd.DataFrame(df.loc[(df['lat'] >= lat_min) & \n",
    "                                                           (df['lat'] < lat_max) & \n",
    "                                                           (df['lon'] >= lon_min) &\n",
    "                                                           (df['lon'] < lon_max) &\n",
    "                                                           (abs(df['sci']) == 2)].mean(numeric_only=True)).T)\n",
    "                df_out.iloc[-1].at['count'] = ct\n",
    "    return df_out\n",
    "\n",
    "def files_to_df(files):\n",
    "    '''\n",
    "    Receives: a folder\n",
    "    Returns: a dataframe of the files in that folder with separate columns for Year, Month and Day\n",
    "    '''\n",
    "    df = pd.DataFrame(data=files, columns = ['file'])\n",
    "    # Add columns that will be filled next\n",
    "    df['year'] = 0\n",
    "    df['month'] = 0\n",
    "    df['day'] = 0\n",
    "    for i in range(len(df)):\n",
    "        df.iloc[i, df.columns.get_loc('year')] = int(df['file'][i].rsplit('\\\\')[2].rsplit('_')[0])\n",
    "        df.iloc[i, df.columns.get_loc('month')] = int(df['file'][i].rsplit('\\\\')[2].rsplit('_')[1])\n",
    "        df.iloc[i, df.columns.get_loc('day')] = int(df['file'][i].rsplit('\\\\')[2].rsplit('_')[2])\n",
    "    return df"
   ]
  },
  {
   "cell_type": "markdown",
   "metadata": {},
   "source": [
    "## Verify all files are readable"
   ]
  },
  {
   "cell_type": "code",
   "execution_count": null,
   "metadata": {},
   "outputs": [],
   "source": [
    "files = glob.glob('C:\\\\data\\\\AIRS\\\\_AIRS2\\\\*.csv.gz')\n",
    "print('Found', len(files), 'files.')\n",
    "\n",
    "if 1 == 1:\n",
    "    for file in tqdm(files):\n",
    "        try:\n",
    "            df = gzp(file)\n",
    "        except:\n",
    "            print(file, 'is unreadable')"
   ]
  },
  {
   "cell_type": "markdown",
   "metadata": {},
   "source": [
    "## Locate files, create single-year ~1Gb daily radiance avg for each lat*lon grid -> gzip file"
   ]
  },
  {
   "cell_type": "code",
   "execution_count": null,
   "metadata": {
    "scrolled": true
   },
   "outputs": [],
   "source": [
    "dff = files_to_df(files)                       # dataframe of files (dff)\n",
    "print('Found', len(files), 'files.')\n",
    "print('Found these years:', dff['year'].unique())"
   ]
  },
  {
   "cell_type": "code",
   "execution_count": null,
   "metadata": {},
   "outputs": [],
   "source": [
    "for year in dff['year'].unique():\n",
    "    dffs = dff.loc[dff['year'] == year]  # dataframe of files, single year (dffs)\n",
    "    dfo = pd.DataFrame()\n",
    "    print('Processing year', str(year)+'...')\n",
    "    for i in tqdm(range(len(dffs))):\n",
    "        df = pd.DataFrame()\n",
    "        df = mean_df(gzp(dffs.iloc[i]['file']), 20, 20)\n",
    "        df['year'] = dffs.iloc[i]['year']\n",
    "        df['month'] = dffs.iloc[i]['month']\n",
    "        dfo = dfo.append(df)\n",
    "    print('dfo mem size:', round(dfo.memory_usage().sum()/2**20, 0), 'MB')\n",
    "    \n",
    "    # Prepare output folder\n",
    "    save_path = 'C:\\\\data\\\\L1b\\\\_AIRS3\\\\'\n",
    "        if not os.path.isdir(save_path):\n",
    "            os.makedirs(save_path)\n",
    "    \n",
    "    dfo.to_csv(save_path + str(year) + '_dailyavgs.csv.gz', compression = 'gzip', index=False, header=True)\n",
    "\n",
    "# clear df's from memory\n",
    "df = pd.DataFrame()\n",
    "dfo = pd.DataFrame()"
   ]
  }
 ],
 "metadata": {
  "kernelspec": {
   "display_name": "Python 3",
   "language": "python",
   "name": "python3"
  },
  "language_info": {
   "codemirror_mode": {
    "name": "ipython",
    "version": 3
   },
   "file_extension": ".py",
   "mimetype": "text/x-python",
   "name": "python",
   "nbconvert_exporter": "python",
   "pygments_lexer": "ipython3",
   "version": "3.8.5"
  }
 },
 "nbformat": 4,
 "nbformat_minor": 4
}
